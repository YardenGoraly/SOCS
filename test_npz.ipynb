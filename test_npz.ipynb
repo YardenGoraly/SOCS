{
 "cells": [
  {
   "cell_type": "code",
   "execution_count": 26,
   "metadata": {},
   "outputs": [
    {
     "name": "stdout",
     "output_type": "stream",
     "text": [
      "(8, 128, 128)\n",
      "(8, 128, 128, 3)\n"
     ]
    },
    {
     "data": {
      "image/png": "[encoded data removed]",
      "text/plain": [
       "<Figure size 432x288 with 1 Axes>"
      ]
     },
     "metadata": {
      "needs_background": "light"
     },
     "output_type": "display_data"
    }
   ],
   "source": [
    "import numpy as np\n",
    "import matplotlib.pyplot as plt\n",
    "import torch\n",
    "\n",
    "datapath = '/data/yardengoraly/final_project_data/npz_datasets/movi_small_dataset_with_full_gt/train/0.npz'\n",
    "with open(datapath, 'rb') as f:\n",
    "    data = np.load(f)\n",
    "    print(data['segmentation'].shape)\n",
    "    plt.imshow(data['segmentation'][0])\n",
    "    print(data['full_segmentation'].shape)\n",
    "    # plt.imshow((data['full_segmentation'])[0])\n",
    "    # print((data['full_segmentation'].sum(3) > 0).astype(int).shape)\n",
    "    # plt.imshow((data['full_segmentation'].sum(3) > 0).astype(int)[0])"
   ]
  },
  {
   "cell_type": "code",
   "execution_count": null,
   "metadata": {},
   "outputs": [],
   "source": []
  }
 ],
 "metadata": {
  "kernelspec": {
   "display_name": "base",
   "language": "python",
   "name": "python3"
  },
  "language_info": {
   "codemirror_mode": {
    "name": "ipython",
    "version": 3
   },
   "file_extension": ".py",
   "mimetype": "text/x-python",
   "name": "python",
   "nbconvert_exporter": "python",
   "pygments_lexer": "ipython3",
   "version": "3.9.12"
  }
 },
 "nbformat": 4,
 "nbformat_minor": 2
}
